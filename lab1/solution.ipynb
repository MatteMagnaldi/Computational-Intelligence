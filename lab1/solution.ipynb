{
 "cells": [
  {
   "cell_type": "code",
   "execution_count": 2,
   "metadata": {},
   "outputs": [],
   "source": [
    "import random\n",
    "import logging\n",
    "import itertools\n",
    "from queue import PriorityQueue\n"
   ]
  },
  {
   "cell_type": "code",
   "execution_count": 66,
   "metadata": {},
   "outputs": [
    {
     "name": "stderr",
     "output_type": "stream",
     "text": [
      "P set: [[1, 2], [0], [0, 3]].\n",
      "found state: ((1, 2),):\n",
      "\t\t-- Added to the frontier\n",
      "\t\t-- with cost: 2\n",
      "found state: ((0,),):\n",
      "\t\t-- Added to the frontier\n",
      "\t\t-- with cost: 1\n",
      "found state: ((0, 3),):\n",
      "\t\t-- Added to the frontier\n",
      "\t\t-- with cost: 2\n",
      "found state: ((0,), (1, 2)):\n",
      "\t\t-- Added to the frontier\n",
      "\t\t-- with cost: 3\n",
      "found state: ((0,), (0, 3)):\n",
      "\t\t-- Added to the frontier\n",
      "\t\t-- with cost: 3\n",
      "found state: ((0, 3), (1, 2)):\n",
      "\t\t-- Added to the frontier\n",
      "\t\t-- with cost: 4\n",
      "found state: ((0, 3), (0,)):\n",
      "\t\t-- Added to the frontier\n",
      "\t\t-- with cost: 3\n",
      "found state: ((1, 2), (0,)):\n",
      "\t\t-- Added to the frontier\n",
      "\t\t-- with cost: 3\n",
      "found state: ((1, 2), (0, 3)):\n",
      "\t\t-- Added to the frontier\n",
      "\t\t-- with cost: 4\n",
      "found state: ((0,), (0, 3), (1, 2)):\n",
      "\t\t-- Added to the frontier\n",
      "\t\t-- with cost: 5\n",
      "found state: ((0,), (1, 2), (0, 3)):\n",
      "\t\t-- Added to the frontier\n",
      "\t\t-- with cost: 5\n",
      "found state: ((0, 3), (0,), (1, 2)):\n",
      "\t\t-- Added to the frontier\n",
      "\t\t-- with cost: 5\n",
      "found state: ((1, 2), (0,), (0, 3)):\n",
      "\t\t-- Added to the frontier\n",
      "\t\t-- with cost: 5\n",
      "visited 8 nodes.\n"
     ]
    },
    {
     "data": {
      "text/plain": [
       "(((0, 3), (1, 2)), 4)"
      ]
     },
     "execution_count": 66,
     "metadata": {},
     "output_type": "execute_result"
    }
   ],
   "source": [
    "\n",
    "N = 5\n",
    "logging.basicConfig(format=\"%(message)s\", level=logging.INFO)\n",
    "def problem(N, seed=None):\n",
    "    random.seed(seed)\n",
    "    return [\n",
    "        list(set(random.randint(0, N - 1) for n in range(random.randint(N // 5, N // 2))))\n",
    "        for n in range(random.randint(N, N * 5))\n",
    "    ]\n",
    "\n",
    "def remove_duplicates(P):\n",
    "    set_list = []\n",
    "    for p in P:\n",
    "        if p not in set_list and len(p) != 0:\n",
    "            set_list.append(p)\n",
    "    return set_list\n",
    "\n",
    "\n",
    "def goal_test(state):\n",
    "    return set(itertools.chain(*state)) == set(range(0,N))\n",
    "\n",
    "def possible_actions(state, P):\n",
    "    return (tuple(p) for p in P if tuple(p) not in state)\n",
    "\n",
    "def path_cost(state):\n",
    "    return sum(len(p) for p in state)\n",
    "\n",
    "def search(P : list, \n",
    "           goal_test,\n",
    "           path_cost ):\n",
    "    \n",
    "    frontier = PriorityQueue()\n",
    "    explored_nodes = 0\n",
    "    state = list()\n",
    "    cost = dict()\n",
    "    while state is not None and not goal_test(state): \n",
    "        explored_nodes+=1\n",
    "        \n",
    "        for action in possible_actions(state, P):\n",
    "            \n",
    "            new_state = tuple([*state, action])\n",
    "            \n",
    "            logging.info(f\"found state: {new_state}:\")    \n",
    "            if new_state not in cost and new_state not in frontier.queue:\n",
    "                logging.info(f\"\\t\\t-- Added to the frontier\")\n",
    "                cost[new_state] = path_cost(new_state)     \n",
    "                logging.info(f\"\\t\\t-- with cost: {cost[new_state]}\")\n",
    "                frontier.put(( path_cost(new_state) , new_state ))\n",
    "            elif new_state in frontier.queue and cost[new_state] > path_cost(new_state):\n",
    "                cost[new_state] = path_cost(new_state)\n",
    "                logging.info(f\"\\t\\t-- updated cost: {cost[new_state]}\")\n",
    "        state = frontier.get()[1]\n",
    "    \n",
    "    logging.info(f\"visited {explored_nodes} nodes.\")\n",
    "    return state, cost[state]\n",
    "\n",
    "P = problem(N, seed=42)\n",
    "P = remove_duplicates(P)\n",
    "logging.info(f\"P set: {P}.\")\n",
    "search(P, goal_test, path_cost)\n",
    "\n"
   ]
  },
  {
   "cell_type": "markdown",
   "metadata": {},
   "source": [
    "# Solution 1 - breadth search "
   ]
  },
  {
   "cell_type": "code",
   "execution_count": null,
   "metadata": {},
   "outputs": [],
   "source": []
  }
 ],
 "metadata": {
  "kernelspec": {
   "display_name": "Python 3.9.13 64-bit (microsoft store)",
   "language": "python",
   "name": "python3"
  },
  "language_info": {
   "codemirror_mode": {
    "name": "ipython",
    "version": 3
   },
   "file_extension": ".py",
   "mimetype": "text/x-python",
   "name": "python",
   "nbconvert_exporter": "python",
   "pygments_lexer": "ipython3",
   "version": "3.9.13"
  },
  "orig_nbformat": 4,
  "vscode": {
   "interpreter": {
    "hash": "2923d3b8e96b1241d596cb2d6bff063b4f6881132cdce79b9c9957b937898ca2"
   }
  }
 },
 "nbformat": 4,
 "nbformat_minor": 2
}
