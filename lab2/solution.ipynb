{
 "cells": [
  {
   "cell_type": "markdown",
   "metadata": {},
   "source": [
    "# Laboratory 2 \n",
    "This is the proposed solution written by Serra Matteo (s303513) and Magnaldi Matteo.\n",
    "    "
   ]
  },
  {
   "cell_type": "code",
   "execution_count": 2,
   "metadata": {},
   "outputs": [],
   "source": [
    "import random \n",
    "from numpy import cumsum\n",
    "from population import Population"
   ]
  },
  {
   "cell_type": "code",
   "execution_count": 3,
   "metadata": {},
   "outputs": [],
   "source": [
    "# problem definition\n",
    "def problem(N, seed=None):\n",
    "    random.seed(seed)\n",
    "    return [\n",
    "        list(set(random.randint(0, N - 1) for n in range(random.randint(N // 5, N // 2))))\n",
    "        for n in range(random.randint(N, N * 5))\n",
    "    ]\n",
    "\n",
    "def remove_duplicates(P):\n",
    "    set_list = []\n",
    "    for p in P:\n",
    "        if p not in set_list and len(p) != 0:\n",
    "            set_list.append(p)\n",
    "    return set_list\n",
    "\n",
    "\n",
    "def goal_test(state):\n",
    "    return set(itertools.chain(*state)) == set(range(0,N))\n",
    "\n",
    "# utility functions \n",
    "def fitness_of_population(population: list) -> list:\n",
    "    return list(map(lambda ind: fitness(ind), generation))\n",
    "\n",
    "# fitness function\n",
    "def fitness(individual) -> float:\n",
    "    return; \n",
    "\n",
    "# methods of selection\n",
    "def roulette_wheel(generation:list):\n",
    "    generation_fitness = list(map(lambda ind: fitness(ind), generation))\n",
    "    summed_fintness = sum(generation_fitness)\n",
    "\n",
    "    probabilities =  list(map(lambda f: f / summed_fintness, generation_fitness))\n",
    "    wheel = cumsum(probabilities)\n",
    "\n",
    "    def roll() -> int:\n",
    "        r = random.random()\n",
    "        \n",
    "        for (i, pockets) in enumerate(wheel):\n",
    "            if r < pockets:\n",
    "                return i\n",
    "    return roll\n",
    "\n",
    "def steady_state(generation:list, n: int) -> list:\n",
    "    return sorted(generation, lambda i : fitness(i))[:n]\n",
    "\n",
    "def tournament_selection(generation:list, tournament_size:int):\n",
    "    return max(random.choices(generation, k=tournament_size), key=lambda i: fitness(i))\n",
    "\n",
    "def spread_in_island(initial_population: list, n_populations: int) -> list:\n",
    "    pass\n",
    "\n",
    "def migration_model(initial_population: list, max_iter: int, n_populations: int, nc: int, pm: int, crossover_rate: float, mutation_rate: float) -> list {\n",
    "    populations = spread_in_island(initial_population, n_populations)    \n",
    "    prev = 0\n",
    "    fitness_avg = 0\n",
    "    n = [len(population) for population in populations]\n",
    "\n",
    "    for generation in range(max_iter):\n",
    "        n_sum = 0\n",
    "        f_sum = 0\n",
    "        for population in populations:\n",
    "            population.fitness = fitness_of_population(population)\n",
    "            population.best_fitness = max(fitness_of_population)\n",
    "            nsum = nsum + population.size\n",
    "            f_sum = f_sum + population.best_fitness\n",
    "        prev = fitness_avg\n",
    "        fitness_avg = f_sum / n_populations\n",
    "        n_individuals_avg =  n_sum / n_populations\n",
    "\n",
    "        for population in populations:\n",
    "            k = n_individuals_avg / population.size - 1\n",
    "            population.crossover_points += k\n",
    "            population.mutation_rate += k * mutation_rate\n",
    "            population.size += population.fitness / fitness_avg - 1\n",
    "            if n[i] == 0 :\n",
    "                # delete population \n",
    "                del populations[i]\n",
    "            \n",
    "                \n",
    "\n",
    "\n",
    "}\n"
   ]
  },
  {
   "cell_type": "markdown",
   "metadata": {},
   "source": [
    "## Solution 1"
   ]
  },
  {
   "cell_type": "code",
   "execution_count": 4,
   "metadata": {},
   "outputs": [
    {
     "data": {
      "text/plain": [
       "[[0], [1], [4], [1, 3], [0, 1], [2], [0, 2], [2, 4], [3], [2, 3]]"
      ]
     },
     "execution_count": 4,
     "metadata": {},
     "output_type": "execute_result"
    }
   ],
   "source": [
    "N = 5\n",
    "P = problem(N,seed=42)\n",
    "P=remove_duplicates(P)\n",
    "P"
   ]
  }
 ],
 "metadata": {
  "kernelspec": {
   "display_name": "Python 3.10.7 64-bit",
   "language": "python",
   "name": "python3"
  },
  "language_info": {
   "codemirror_mode": {
    "name": "ipython",
    "version": 3
   },
   "file_extension": ".py",
   "mimetype": "text/x-python",
   "name": "python",
   "nbconvert_exporter": "python",
   "pygments_lexer": "ipython3",
   "version": "3.10.7"
  },
  "orig_nbformat": 4,
  "vscode": {
   "interpreter": {
    "hash": "916dbcbb3f70747c44a77c7bcd40155683ae19c65e1c03b4aa3499c5328201f1"
   }
  }
 },
 "nbformat": 4,
 "nbformat_minor": 2
}
