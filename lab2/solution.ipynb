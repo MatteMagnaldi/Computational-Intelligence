{
 "cells": [
  {
   "cell_type": "code",
   "execution_count": 39,
   "metadata": {},
   "outputs": [],
   "source": [
    "import numpy\n",
    "import random\n",
    "import logging\n",
    "#import matplotlib as plt\n",
    "import itertools\n",
    "from matplotlib import pyplot as plt"
   ]
  },
  {
   "cell_type": "code",
   "execution_count": 40,
   "metadata": {},
   "outputs": [],
   "source": [
    "\n",
    "POPULATION_SIZE = 100\n",
    "OFFSPRING_SIZE = 1000\n",
    "\n",
    "NUM_GENERATIONS = 200\n",
    "MUTATION_RATE = 0.5"
   ]
  },
  {
   "cell_type": "code",
   "execution_count": 41,
   "metadata": {},
   "outputs": [],
   "source": [
    "logging.basicConfig(format=\"%(message)s\", level=logging.INFO)\n",
    "def problem(N, seed=None):\n",
    "    random.seed(seed)\n",
    "    return [\n",
    "        list(set(random.randint(0, N - 1) for n in range(random.randint(N // 5, N // 2))))\n",
    "        for n in range(random.randint(N, N * 5))\n",
    "    ]\n",
    "\n",
    "def remove_duplicates(P):\n",
    "    set_list = []\n",
    "    for p in P:\n",
    "        if p not in set_list and len(p) != 0:\n",
    "            set_list.append(p)\n",
    "    return set_list\n",
    "\n",
    "def total_len(genome):\n",
    "    return sum(len(p) for p in genome)\n",
    "    \n",
    "def fitness(genome):\n",
    "    #logging.info(f\"{genome}\")\n",
    "    if sum(len(p) for p in genome) == 0:\n",
    "        pass\n",
    "        # logging.info(f\"{genome}\")\n",
    "    return (len(set(itertools.chain(*genome))), 1/sum(len(p) for p in genome))\n",
    "\n",
    "def tournament(population,tournamen_size = 10):\n",
    "    return max(random.choices(population,k=tournamen_size), key=lambda i: i[1])\n",
    "\n",
    "def cross_over(g1,g2):\n",
    "    \n",
    "    \n",
    "    if random.random() < 0.5:\n",
    "        cut1 = random.randint(1,len(g1))\n",
    "        cut2 = random.randint(0,len(g2))\n",
    "        new_genome = g1[:cut1] + g2[cut2:]\n",
    "    else:\n",
    "        cut1 = random.randint(0,len(g1))\n",
    "        cut2 = random.randint(1,len(g2))\n",
    "        new_genome = g2[:cut2] + g1[cut1:]\n",
    "    #logging.info(f\"from {g1} and {g2}: {new_genome}\")\n",
    "    return new_genome\n",
    "\n",
    "def mutation(genome,problem):\n",
    "    index_mut_elem = random.randint(0,len(genome) -1)\n",
    "    if random.random() > 0.8 and len(genome) > 1:\n",
    "        return genome[:index_mut_elem]+ genome[index_mut_elem+1:]\n",
    "    \n",
    "    new_elem = random.choice(problem)\n",
    "    return genome[:index_mut_elem]+ [new_elem] + genome[index_mut_elem+1:]\n",
    "    \n",
    "\n",
    "    \n",
    "\n",
    "def goal_test(genome):\n",
    "    return set(itertools.chain(*genome[0])) == set(range(0,N))\n",
    "\n",
    "def evolve(population, mutation_rate):\n",
    "\n",
    "    num_fitness_call = len(P)\n",
    "\n",
    "    for g in range(NUM_GENERATIONS):\n",
    "        offspring = []\n",
    "        for i in range(OFFSPRING_SIZE):\n",
    "            if random.random() < mutation_rate:\n",
    "                p = tournament(population)[0]\n",
    "                o = mutation(p,P)\n",
    "                #logging.info(f\"p:{p} o:{o}\")\n",
    "            else:\n",
    "                p1 = tournament(population)[0]\n",
    "                p2 = tournament(population)[0]\n",
    "                o = cross_over(p1,p2)\n",
    "                #logging.info(f\"p1:{p1} p2:{p2} o:{o}\")\n",
    "            #logging.info(f\"new element:{o}\")\n",
    "            num_fitness_call += 1\n",
    "            offspring.append((o,fitness(o)))\n",
    "\n",
    "            \n",
    "        population = offspring \n",
    "        #logging.info(f\"population:{population}\")\n",
    "        population = sorted(population,key=lambda i:i[1],reverse=True)[:POPULATION_SIZE]\n",
    "        \n",
    "\n",
    "    #logging.info(f\"Solution cost: {population[0][1]}\")\n",
    "    #logging.info(f\"#fitness call: {num_fitness_call}\")\n",
    "    return population[0]\n",
    "    "
   ]
  },
  {
   "cell_type": "markdown",
   "metadata": {},
   "source": [
    "## Results"
   ]
  },
  {
   "cell_type": "code",
   "execution_count": 42,
   "metadata": {},
   "outputs": [
    {
     "name": "stderr",
     "output_type": "stream",
     "text": [
      "Results for N=5\n",
      "\t\t total len: [5.0]\n"
     ]
    }
   ],
   "source": [
    "\n",
    "n = 5\n",
    "P = problem(n,seed=42)\n",
    "P = remove_duplicates(P)\n",
    "\n",
    "population = [([a],fitness([a]))  for a in P]\n",
    "population = sorted(population,key=lambda i:i[1],reverse=True)\n",
    "best = evolve(population, 0.5)\n",
    "logging.info(f\"Results for N={n}\")\n",
    "logging.info(f\"\\t\\t total len: [{1/best[1][1]}]\")"
   ]
  },
  {
   "cell_type": "code",
   "execution_count": null,
   "metadata": {},
   "outputs": [],
   "source": [
    "\n"
   ]
  },
  {
   "cell_type": "code",
   "execution_count": 43,
   "metadata": {},
   "outputs": [
    {
     "name": "stderr",
     "output_type": "stream",
     "text": [
      "Results for N=10\n",
      "\t\t total len: [10.0]\n"
     ]
    }
   ],
   "source": [
    "n = 10\n",
    "P = problem(n,seed=42)\n",
    "P = remove_duplicates(P)\n",
    "\n",
    "population = [([a],fitness([a]))  for a in P]\n",
    "population = sorted(population,key=lambda i:i[1],reverse=True)\n",
    "best = evolve(population, 0.5)\n",
    "logging.info(f\"Results for N={n}\")\n",
    "logging.info(f\"\\t\\t total len: [{1/best[1][1]}]\")\n"
   ]
  },
  {
   "cell_type": "code",
   "execution_count": 44,
   "metadata": {},
   "outputs": [
    {
     "name": "stderr",
     "output_type": "stream",
     "text": [
      "Results for N=20\n",
      "\t\t total len: [24.0]\n"
     ]
    }
   ],
   "source": [
    "n = 20\n",
    "P = problem(n,seed=42)\n",
    "P = remove_duplicates(P)\n",
    "\n",
    "population = [([a],fitness([a]))  for a in P]\n",
    "population = sorted(population,key=lambda i:i[1],reverse=True)\n",
    "best = evolve(population, 0.5)\n",
    "logging.info(f\"Results for N={n}\")\n",
    "logging.info(f\"\\t\\t total len: [{1/best[1][1]}]\")\n"
   ]
  },
  {
   "cell_type": "code",
   "execution_count": 45,
   "metadata": {},
   "outputs": [
    {
     "name": "stderr",
     "output_type": "stream",
     "text": [
      "Results for N=100\n",
      "\t\t total len: [192.0]\n"
     ]
    }
   ],
   "source": [
    "n = 100\n",
    "P = problem(n,seed=42)\n",
    "P = remove_duplicates(P)\n",
    "\n",
    "population = [([a],fitness([a]))  for a in P]\n",
    "population = sorted(population,key=lambda i:i[1],reverse=True)\n",
    "best = evolve(population, 0.5)\n",
    "logging.info(f\"Results for N={n}\")\n",
    "logging.info(f\"\\t\\t total len: [{1/best[1][1]}]\")\n"
   ]
  },
  {
   "cell_type": "code",
   "execution_count": 46,
   "metadata": {},
   "outputs": [
    {
     "name": "stderr",
     "output_type": "stream",
     "text": [
      "Results for N=1000\n",
      "\t\t total len: [2937.0]\n"
     ]
    }
   ],
   "source": [
    "\n",
    "\n",
    "n = 1000\n",
    "P = problem(n,seed=42)\n",
    "P = remove_duplicates(P)\n",
    "\n",
    "population = [([a],fitness([a]))  for a in P]\n",
    "population = sorted(population,key=lambda i:i[1],reverse=True)\n",
    "best = evolve(population, 0.5)\n",
    "logging.info(f\"Results for N={n}\")\n",
    "logging.info(f\"\\t\\t total len: [{1/best[1][1]}]\")"
   ]
  },
  {
   "cell_type": "markdown",
   "metadata": {},
   "source": []
  }
 ],
 "metadata": {
  "kernelspec": {
   "display_name": "Python 3.10.7 64-bit",
   "language": "python",
   "name": "python3"
  },
  "language_info": {
   "codemirror_mode": {
    "name": "ipython",
    "version": 3
   },
   "file_extension": ".py",
   "mimetype": "text/x-python",
   "name": "python",
   "nbconvert_exporter": "python",
   "pygments_lexer": "ipython3",
   "version": "3.10.7"
  },
  "orig_nbformat": 4,
  "vscode": {
   "interpreter": {
    "hash": "916dbcbb3f70747c44a77c7bcd40155683ae19c65e1c03b4aa3499c5328201f1"
   }
  }
 },
 "nbformat": 4,
 "nbformat_minor": 2
}
