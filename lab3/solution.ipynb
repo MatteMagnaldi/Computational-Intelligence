{
 "cells": [
  {
   "cell_type": "markdown",
   "metadata": {},
   "source": [
    "# Lab 3: Policy Search\n",
    "Solution written by Serra Matteo and Matteo Magnaldi."
   ]
  },
  {
   "cell_type": "code",
   "execution_count": 7,
   "metadata": {},
   "outputs": [],
   "source": [
    "import logging\n",
    "from functools import reduce"
   ]
  },
  {
   "cell_type": "code",
   "execution_count": 8,
   "metadata": {},
   "outputs": [],
   "source": [
    "class Nim:\n",
    "    def __init__(self, num_rows: int, k: int = None) -> None:\n",
    "        self._rows = [i * 2 + 1 for i in range(num_rows)]\n",
    "        self._k = k\n",
    "        self.safe = self.evaluate() \n",
    "    \n",
    "    def niming(self, row: int, num_objects: int) -> None:\n",
    "        assert self._rows[row] >= num_objects\n",
    "        assert sefl._k is None or num_objects <= self._k\n",
    "        self._rows[row] -= num_objects\n",
    "        if sum(self._rows) == 0:\n",
    "            logging.info(\"Yeuch!\")\n",
    "\n",
    "    def evaluate(self) -> (bool, int):\n",
    "        safe = reduce((lambda x,y: x ^ y), self._rows)\n",
    "        self._safe = safe == 0\n",
    "        return self._safe, safe\n",
    "    \n",
    "\n",
    "\n",
    "        \n",
    "def expert_system(nim: Nim) -> (int, int):\n",
    "    # when a single row counts more than an object, invert the strategy \n",
    "    invert_strategy = [n > 1 for n in nim._rows].count(True) == 1 and max(nim._rows) <= nim._k\n",
    "    safe, elem_from_safe = nim.evaluate()\n",
    "    \n",
    "    if invert_strategy:\n",
    "        pass\n",
    "    else:\n",
    "        if safe:\n",
    "            # random move or something more clever\n",
    "            pass\n",
    "        else:\n",
    "            # comeback to safe\n",
    "            if elem_from_safe in nim._rows:\n",
    "                return (nim._rows.index(elem_from_safe), elem_from_safe)\n",
    "            else: \n",
    "                #random move or something clever\n",
    "                pass\n",
    "\n",
    "\n",
    "\n",
    "        \n",
    "\n",
    "def min_max(nim: Nim) -> (int, int):\n",
    "    pass\n",
    "\n"
   ]
  },
  {
   "cell_type": "code",
   "execution_count": 9,
   "metadata": {},
   "outputs": [
    {
     "data": {
      "text/plain": [
       "False"
      ]
     },
     "execution_count": 9,
     "metadata": {},
     "output_type": "execute_result"
    }
   ],
   "source": [
    "nim = Nim(5, 3)\n",
    "nim.evaluate()"
   ]
  }
 ],
 "metadata": {
  "kernelspec": {
   "display_name": "Python 3.10.7 64-bit",
   "language": "python",
   "name": "python3"
  },
  "language_info": {
   "codemirror_mode": {
    "name": "ipython",
    "version": 3
   },
   "file_extension": ".py",
   "mimetype": "text/x-python",
   "name": "python",
   "nbconvert_exporter": "python",
   "pygments_lexer": "ipython3",
   "version": "3.10.7"
  },
  "orig_nbformat": 4,
  "vscode": {
   "interpreter": {
    "hash": "916dbcbb3f70747c44a77c7bcd40155683ae19c65e1c03b4aa3499c5328201f1"
   }
  }
 },
 "nbformat": 4,
 "nbformat_minor": 2
}
